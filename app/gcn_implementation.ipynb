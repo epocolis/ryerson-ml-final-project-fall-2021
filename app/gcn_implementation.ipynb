{
 "cells": [
  {
   "cell_type": "code",
   "execution_count": 2,
   "id": "e23fa21b-e21f-4f64-9a71-622e1811490f",
   "metadata": {},
   "outputs": [],
   "source": [
    "import torch\n",
    "import torch.nn.functional as F\n",
    "from torch.utils.data import DataLoader\n",
    "from torch_geometric.utils import negative_sampling\n",
    "import torch_geometric.transforms as T\n",
    "from torch_geometric.nn import GCNConv, SAGEConv\n",
    "from ogb.linkproppred import PygLinkPropPredDataset, Evaluator\n",
    "from logger import Logger"
   ]
  },
  {
   "cell_type": "code",
   "execution_count": 3,
   "id": "3a7b07ee-7688-472a-b40e-958d98d77b53",
   "metadata": {},
   "outputs": [],
   "source": [
    "class GCN(torch.nn.Module):\n",
    "    def __init__(self, in_channels, hidden_channels, out_channels, num_layers,\n",
    "                 dropout):\n",
    "        super(GCN, self).__init__()\n",
    "\n",
    "        self.convs = torch.nn.ModuleList()\n",
    "        self.convs.append(GCNConv(in_channels, hidden_channels, cached=True))\n",
    "        for _ in range(num_layers - 2):\n",
    "            self.convs.append(\n",
    "                GCNConv(hidden_channels, hidden_channels, cached=True))\n",
    "        self.convs.append(GCNConv(hidden_channels, out_channels, cached=True))\n",
    "\n",
    "        self.dropout = dropout\n",
    "\n",
    "    def reset_parameters(self):\n",
    "        for conv in self.convs:\n",
    "            conv.reset_parameters()\n",
    "\n",
    "    def forward(self, x, adj_t):\n",
    "        for conv in self.convs[:-1]:\n",
    "            x = conv(x, adj_t)\n",
    "            x = F.relu(x)\n",
    "            x = F.dropout(x, p=self.dropout, training=self.training)\n",
    "        x = self.convs[-1](x, adj_t)\n",
    "        return x"
   ]
  },
  {
   "cell_type": "code",
   "execution_count": 4,
   "id": "afb705e5-0960-4956-bfa1-52ad229202a8",
   "metadata": {},
   "outputs": [],
   "source": [
    "class LinkPredictor(torch.nn.Module):\n",
    "    def __init__(self, in_channels, hidden_channels, out_channels, num_layers,\n",
    "                 dropout):\n",
    "        super(LinkPredictor, self).__init__()\n",
    "\n",
    "        self.lins = torch.nn.ModuleList()\n",
    "        self.lins.append(torch.nn.Linear(in_channels, hidden_channels))\n",
    "        for _ in range(num_layers - 2):\n",
    "            self.lins.append(torch.nn.Linear(hidden_channels, hidden_channels))\n",
    "        self.lins.append(torch.nn.Linear(hidden_channels, out_channels))\n",
    "\n",
    "        self.dropout = dropout\n",
    "\n",
    "    def reset_parameters(self):\n",
    "        for lin in self.lins:\n",
    "            lin.reset_parameters()\n",
    "\n",
    "    def forward(self, x_i, x_j):\n",
    "        x = x_i * x_j\n",
    "        for lin in self.lins[:-1]:\n",
    "            x = lin(x)\n",
    "            x = F.relu(x)\n",
    "            x = F.dropout(x, p=self.dropout, training=self.training)\n",
    "        x = self.lins[-1](x)\n",
    "        return torch.sigmoid(x)"
   ]
  },
  {
   "cell_type": "code",
   "execution_count": 5,
   "id": "a10f6062-d1e0-464b-9ac9-07954b7750d0",
   "metadata": {},
   "outputs": [],
   "source": [
    "def train(model, predictor, x, adj_t, split_edge, optimizer, batch_size):\n",
    "\n",
    "    row, col, _ = adj_t.coo()\n",
    "    edge_index = torch.stack([col, row], dim=0)\n",
    "\n",
    "    model.train()\n",
    "    predictor.train()\n",
    "\n",
    "    pos_train_edge = split_edge['train']['edge'].to(x.device)\n",
    "\n",
    "    total_loss = total_examples = 0\n",
    "    for perm in DataLoader(range(pos_train_edge.size(0)), batch_size,\n",
    "                           shuffle=True):\n",
    "        optimizer.zero_grad()\n",
    "\n",
    "        h = model(x, adj_t)\n",
    "\n",
    "        edge = pos_train_edge[perm].t()\n",
    "\n",
    "        pos_out = predictor(h[edge[0]], h[edge[1]])\n",
    "        pos_loss = -torch.log(pos_out + 1e-15).mean()\n",
    "\n",
    "        edge = negative_sampling(edge_index, num_nodes=x.size(0),\n",
    "                                 num_neg_samples=perm.size(0), method='dense')\n",
    "\n",
    "        neg_out = predictor(h[edge[0]], h[edge[1]])\n",
    "        neg_loss = -torch.log(1 - neg_out + 1e-15).mean()\n",
    "\n",
    "        loss = pos_loss + neg_loss\n",
    "        loss.backward()\n",
    "\n",
    "        torch.nn.utils.clip_grad_norm_(x, 1.0)\n",
    "        torch.nn.utils.clip_grad_norm_(model.parameters(), 1.0)\n",
    "        torch.nn.utils.clip_grad_norm_(predictor.parameters(), 1.0)\n",
    "\n",
    "        optimizer.step()\n",
    "\n",
    "        num_examples = pos_out.size(0)\n",
    "        total_loss += loss.item() * num_examples\n",
    "        total_examples += num_examples\n",
    "\n",
    "    return total_loss / total_examples"
   ]
  },
  {
   "cell_type": "code",
   "execution_count": 6,
   "id": "36d68f31-ddc4-4a90-b91c-3628e39522e0",
   "metadata": {},
   "outputs": [],
   "source": [
    "@torch.no_grad()\n",
    "def test(model, predictor, x, adj_t, split_edge, evaluator, batch_size):\n",
    "    model.eval()\n",
    "    predictor.eval()\n",
    "\n",
    "    h = model(x, adj_t)\n",
    "\n",
    "    pos_train_edge = split_edge['eval_train']['edge'].to(x.device)\n",
    "    pos_valid_edge = split_edge['valid']['edge'].to(x.device)\n",
    "    neg_valid_edge = split_edge['valid']['edge_neg'].to(x.device)\n",
    "    pos_test_edge = split_edge['test']['edge'].to(x.device)\n",
    "    neg_test_edge = split_edge['test']['edge_neg'].to(x.device)\n",
    "\n",
    "    pos_train_preds = []\n",
    "    for perm in DataLoader(range(pos_train_edge.size(0)), batch_size):\n",
    "        edge = pos_train_edge[perm].t()\n",
    "        pos_train_preds += [predictor(h[edge[0]], h[edge[1]]).squeeze().cpu()]\n",
    "    pos_train_pred = torch.cat(pos_train_preds, dim=0)\n",
    "\n",
    "    pos_valid_preds = []\n",
    "    for perm in DataLoader(range(pos_valid_edge.size(0)), batch_size):\n",
    "        edge = pos_valid_edge[perm].t()\n",
    "        pos_valid_preds += [predictor(h[edge[0]], h[edge[1]]).squeeze().cpu()]\n",
    "    pos_valid_pred = torch.cat(pos_valid_preds, dim=0)\n",
    "\n",
    "    neg_valid_preds = []\n",
    "    for perm in DataLoader(range(neg_valid_edge.size(0)), batch_size):\n",
    "        edge = neg_valid_edge[perm].t()\n",
    "        neg_valid_preds += [predictor(h[edge[0]], h[edge[1]]).squeeze().cpu()]\n",
    "    neg_valid_pred = torch.cat(neg_valid_preds, dim=0)\n",
    "\n",
    "    pos_test_preds = []\n",
    "    for perm in DataLoader(range(pos_test_edge.size(0)), batch_size):\n",
    "        edge = pos_test_edge[perm].t()\n",
    "        pos_test_preds += [predictor(h[edge[0]], h[edge[1]]).squeeze().cpu()]\n",
    "    pos_test_pred = torch.cat(pos_test_preds, dim=0)\n",
    "\n",
    "    neg_test_preds = []\n",
    "    for perm in DataLoader(range(neg_test_edge.size(0)), batch_size):\n",
    "        edge = neg_test_edge[perm].t()\n",
    "        neg_test_preds += [predictor(h[edge[0]], h[edge[1]]).squeeze().cpu()]\n",
    "    neg_test_pred = torch.cat(neg_test_preds, dim=0)\n",
    "\n",
    "    results = {}\n",
    "    for K in [10, 20, 30]:\n",
    "        evaluator.K = K\n",
    "        train_hits = evaluator.eval({\n",
    "            'y_pred_pos': pos_train_pred,\n",
    "            'y_pred_neg': neg_valid_pred,\n",
    "        })[f'hits@{K}']\n",
    "        valid_hits = evaluator.eval({\n",
    "            'y_pred_pos': pos_valid_pred,\n",
    "            'y_pred_neg': neg_valid_pred,\n",
    "        })[f'hits@{K}']\n",
    "        test_hits = evaluator.eval({\n",
    "            'y_pred_pos': pos_test_pred,\n",
    "            'y_pred_neg': neg_test_pred,\n",
    "        })[f'hits@{K}']\n",
    "\n",
    "        results[f'Hits@{K}'] = (train_hits, valid_hits, test_hits)\n",
    "\n",
    "    return results"
   ]
  },
  {
   "cell_type": "code",
   "execution_count": 7,
   "id": "61696117-0829-4b31-a002-30cfc126bf53",
   "metadata": {},
   "outputs": [],
   "source": [
    "class args: \n",
    "    device = 0\n",
    "    log_steps = 1\n",
    "    use_sage = True\n",
    "    use_valedges_as_input = True\n",
    "    num_layers = 3\n",
    "    hidden_channels = 256\n",
    "    dropout = 0.0\n",
    "    batch_size = 64 * 1024\n",
    "    lr = 0.001\n",
    "    epochs = 400\n",
    "    eval_steps = 1\n",
    "    runs = 10  "
   ]
  },
  {
   "cell_type": "code",
   "execution_count": 18,
   "id": "c2165c2f-b9f5-4d33-af68-4324e2dfef89",
   "metadata": {},
   "outputs": [],
   "source": [
    "def create_splits(dataset,training_fraction = 0.2): \n",
    "    split_edge = dataset.get_edge_split()\n",
    "    train_edge, valid_edge, test_edge = split_edge[\"train\"], split_edge[\"valid\"], split_edge[\"test\"]\n",
    "    # combine the training and validation edges\n",
    "    training_edges = train_edge[\"edge\"]\n",
    "    validation_edges = valid_edge[\"edge\"]\n",
    "    # combine both set of edges\n",
    "    all_data = torch.cat((training_edges,validation_edges), 0)\n",
    "    # do 20:80 split\n",
    "    total_number_of_samples = all_data.size(0)\n",
    "    _20_train = total_number_of_samples * training_fraction\n",
    "    _80_valid = total_number_of_samples  - _20_train\n",
    "    splits = torch.split(all_data, [int(_20_train),int(_80_valid)])\n",
    "    new_training_edges = splits[0]\n",
    "    new_validation_edges = splits[1]\n",
    "    valid_edge[\"edge\"] = new_validation_edges \n",
    "    train_edge[\"edge\"] = new_training_edges\n",
    "    split_edge[\"train\"][\"edge\"] = new_training_edges\n",
    "    split_edge[\"valid\"][\"edge\"] = new_validation_edges \n",
    "    split_edge['eval_train'] = {'edge': split_edge['train']['edge'][idx]}\n",
    "    \n",
    "    return split_edge"
   ]
  },
  {
   "cell_type": "markdown",
   "id": "d71b8142-09e0-487e-a085-f832c4ad4e7b",
   "metadata": {},
   "source": [
    "### Load the data set"
   ]
  },
  {
   "cell_type": "code",
   "execution_count": 9,
   "id": "152deece-9737-4e9b-906b-08fa8bbba1b5",
   "metadata": {},
   "outputs": [
    {
     "name": "stderr",
     "output_type": "stream",
     "text": [
      "/home/rasta/development/ryerson-msc/machine-learning/final-project/ryerson-ml-final-project-fall-2021/venv/lib/python3.8/site-packages/torch_geometric/data/storage.py:259: UserWarning: Unable to accurately infer 'num_nodes' from the attribute set '{'edge_index'}'. Please explicitly set 'num_nodes' as an attribute of 'data' to suppress this warning\n",
      "  warnings.warn(\n"
     ]
    }
   ],
   "source": [
    "device = f'cuda:{args.device}' if torch.cuda.is_available() else 'cpu'\n",
    "device = torch.device(device)\n",
    "dataset = PygLinkPropPredDataset(name='ogbl-ddi',transform=T.ToSparseTensor())\n",
    "data = dataset[0]\n",
    "adj_t = data.adj_t.to(device)\n"
   ]
  },
  {
   "cell_type": "code",
   "execution_count": 10,
   "id": "70c10b31-3750-4a7f-8259-3048b4a3c5d2",
   "metadata": {},
   "outputs": [
    {
     "name": "stdout",
     "output_type": "stream",
     "text": [
      "dict_keys(['train', 'valid', 'test'])\n"
     ]
    }
   ],
   "source": [
    "# split_edge = dataset.get_edge_split()\n",
    "split_edge = create_splits(dataset,training_fraction = 0.2)\n",
    "\n",
    "# We randomly pick some training samples that we want to evaluate on:\n",
    "torch.manual_seed(12345)\n",
    "idx = torch.randperm(split_edge['train']['edge'].size(0))\n",
    "idx = idx[:split_edge['valid']['edge'].size(0)]\n",
    "split_edge['eval_train'] = {'edge': split_edge['train']['edge'][idx]}"
   ]
  },
  {
   "cell_type": "code",
   "execution_count": 11,
   "id": "47e2a5a5-4f28-4411-bf76-80904f7db042",
   "metadata": {},
   "outputs": [],
   "source": [
    "model = GCN(args.hidden_channels, args.hidden_channels,\n",
    "                args.hidden_channels, args.num_layers,\n",
    "                args.dropout).to(device)"
   ]
  },
  {
   "cell_type": "code",
   "execution_count": 12,
   "id": "975f15d3-7941-4086-8f99-b29a741c1bae",
   "metadata": {},
   "outputs": [],
   "source": [
    "data.num_nodes = 4267\n",
    "emb = torch.nn.Embedding(data.num_nodes, args.hidden_channels).to(device)\n",
    "predictor = LinkPredictor(args.hidden_channels, args.hidden_channels, 1,\n",
    "                          args.num_layers, args.dropout).to(device)"
   ]
  },
  {
   "cell_type": "code",
   "execution_count": 13,
   "id": "31da4829-8193-4aa4-af2e-3246b2e9d05e",
   "metadata": {},
   "outputs": [],
   "source": [
    "evaluator = Evaluator(name='ogbl-ddi')\n",
    "loggers = {\n",
    "    'Hits@10': Logger(args.runs, args),\n",
    "    'Hits@20': Logger(args.runs, args),\n",
    "    'Hits@30': Logger(args.runs, args),\n",
    "}"
   ]
  },
  {
   "cell_type": "code",
   "execution_count": 43,
   "id": "d53748b7-3b71-4f4a-abfe-cd414a8e9c6d",
   "metadata": {},
   "outputs": [],
   "source": [
    "# compute training validate splits\n",
    "_20_split_edge = create_splits(dataset,training_fraction = 0.2)\n",
    "_40_split_edge = create_splits(dataset,0.4)\n",
    "_60_split_edge = create_splits(dataset,0.6)\n",
    "_70_split_edge = create_splits(dataset,0.7)\n",
    "_80_split_edge = create_splits(dataset,0.8)\n",
    "split_edges = {20:_20_split_edge,40:_40_split_edge, 60:_60_split_edge,70:_70_split_edge,80:_80_split_edge}"
   ]
  },
  {
   "cell_type": "code",
   "execution_count": 23,
   "id": "d9946b84-c5d2-449e-b871-149fcdca1bf8",
   "metadata": {},
   "outputs": [
    {
     "name": "stdout",
     "output_type": "stream",
     "text": [
      "20\n",
      "40\n",
      "60\n"
     ]
    }
   ],
   "source": [
    "d = {20:1,40:2,60:3}\n",
    "for val, keys in enumerate(d): \n",
    "    print(keys)"
   ]
  },
  {
   "cell_type": "code",
   "execution_count": 49,
   "id": "53b7a5f8-2cee-487b-8d8d-f7f226d117cc",
   "metadata": {},
   "outputs": [
    {
     "data": {
      "text/plain": [
       "'101'"
      ]
     },
     "execution_count": 49,
     "metadata": {},
     "output_type": "execute_result"
    }
   ],
   "source": [
    "f\"{100 + 1:02d}\""
   ]
  },
  {
   "cell_type": "code",
   "execution_count": 45,
   "id": "024e0907-3b44-42af-a536-5c11b62c8a6c",
   "metadata": {},
   "outputs": [
    {
     "data": {
      "text/plain": [
       "[]"
      ]
     },
     "execution_count": 45,
     "metadata": {},
     "output_type": "execute_result"
    }
   ],
   "source": [
    "results_dict = {'split_percentage':[],'run': [], 'epoch': [], 'loss':[], 'train':[], 'valid':[], 'test':[], 'key':[]}\n",
    "results_dict.keys()\n",
    "results_dict['split_percentage']"
   ]
  },
  {
   "cell_type": "code",
   "execution_count": null,
   "id": "e1597229-1677-435f-a1af-c67c65ab8e6c",
   "metadata": {},
   "outputs": [
    {
     "name": "stdout",
     "output_type": "stream",
     "text": [
      "split_percentage:20\n",
      "completed:0,left:10\n",
      "completed:1,left:10\n",
      "completed:2,left:10\n",
      "completed:3,left:10\n",
      "completed:4,left:10\n"
     ]
    }
   ],
   "source": [
    "with open(\"results_data.csv\", 'a') as results_file:\n",
    "    \n",
    "    results_file.write(\"split_percentage,run,epoch,loss,train,valid,test,key\\n\")\n",
    "            \n",
    "    for split_percentage, split_edge in split_edges.items():\n",
    "        print(f\"split_percentage:{split_percentage}\")\n",
    "        for run in range(args.runs):\n",
    "            print(f\"completed:{run},left:{args.runs}\")\n",
    "            torch.nn.init.xavier_uniform_(emb.weight)\n",
    "            model.reset_parameters()\n",
    "            predictor.reset_parameters()\n",
    "            optimizer = torch.optim.Adam(\n",
    "                list(model.parameters()) + list(emb.parameters()) +\n",
    "                list(predictor.parameters()), lr=args.lr)\n",
    "\n",
    "            for epoch in range(1, 1 + args.epochs):\n",
    "                loss = train(model, predictor, emb.weight, adj_t, split_edge,\n",
    "                             optimizer, args.batch_size)\n",
    "\n",
    "                if epoch % args.eval_steps == 0:\n",
    "                    results = test(model, predictor, emb.weight, adj_t, split_edge,\n",
    "                                   evaluator, args.batch_size)\n",
    "                    for key, result in results.items():\n",
    "                        loggers[key].add_result(run, result)\n",
    "\n",
    "                    if epoch % args.log_steps == 0:\n",
    "                        for key, result in results.items():\n",
    "                            train_hits, valid_hits, test_hits = result\n",
    "                            \"\"\"\n",
    "                            results_dict['split_percentage'].append(split_percentage) \n",
    "                            results_dict['run'].append(f'{run + 1:02d}')\n",
    "                            results_dict['epoch'].append(f'{epoch:02d}')\n",
    "                            results_dict['loss'].append(f'{loss:.4f}')\n",
    "                            results_dict['train'].append(f'{100 * train_hits:.2f}')\n",
    "                            results_dict['valid'].append(f'{100 * valid_hits:.2f}')\n",
    "                            results_dict['test'].append(f'{100 * test_hits:.2f}')\n",
    "                            results_dict['key'].append(key)\n",
    "                            \"\"\"\n",
    "                            csv_row = f\"{split_percentage}, {run + 1:02d},{epoch:02d},{loss:.4f},{100 * train_hits:.2f},{100 * valid_hits:.2f},{100 * test_hits:.2f},{key}\\n\" \n",
    "                            results_file.write(csv_row)\n",
    "\n",
    "                            \"\"\"\n",
    "                            print(f'Run: {run + 1:02d}, '\n",
    "                                  f'Epoch: {epoch:02d}, '\n",
    "                                  f'Loss: {loss:.4f}, '\n",
    "                                  f'Train: {100 * train_hits:.2f}%, '\n",
    "                                  f'Valid: {100 * valid_hits:.2f}%, '\n",
    "                                  f'Test: {100 * test_hits:.2f}%')\n",
    "                            \"\"\"      \n",
    "                          "
   ]
  },
  {
   "cell_type": "code",
   "execution_count": 29,
   "id": "fea714f4-63d6-4137-9a83-a62eb98ab6b8",
   "metadata": {},
   "outputs": [
    {
     "data": {
      "text/html": [
       "<div>\n",
       "<style scoped>\n",
       "    .dataframe tbody tr th:only-of-type {\n",
       "        vertical-align: middle;\n",
       "    }\n",
       "\n",
       "    .dataframe tbody tr th {\n",
       "        vertical-align: top;\n",
       "    }\n",
       "\n",
       "    .dataframe thead th {\n",
       "        text-align: right;\n",
       "    }\n",
       "</style>\n",
       "<table border=\"1\" class=\"dataframe\">\n",
       "  <thead>\n",
       "    <tr style=\"text-align: right;\">\n",
       "      <th></th>\n",
       "      <th>split_percentage</th>\n",
       "      <th>run</th>\n",
       "      <th>epoch</th>\n",
       "      <th>loss</th>\n",
       "      <th>train</th>\n",
       "      <th>valid</th>\n",
       "      <th>test</th>\n",
       "      <th>key</th>\n",
       "    </tr>\n",
       "  </thead>\n",
       "  <tbody>\n",
       "  </tbody>\n",
       "</table>\n",
       "</div>"
      ],
      "text/plain": [
       "Empty DataFrame\n",
       "Columns: [split_percentage, run, epoch, loss, train, valid, test, key]\n",
       "Index: []"
      ]
     },
     "execution_count": 29,
     "metadata": {},
     "output_type": "execute_result"
    }
   ],
   "source": [
    "import pandas as pd\n",
    "df = pd.DataFrame.from_dict(results)\n",
    "df.head()   "
   ]
  },
  {
   "cell_type": "code",
   "execution_count": null,
   "id": "d525c02f-57cc-43f2-ba1d-97bb2ede26d7",
   "metadata": {},
   "outputs": [],
   "source": []
  }
 ],
 "metadata": {
  "kernelspec": {
   "display_name": "Python 3 (ipykernel)",
   "language": "python",
   "name": "python3"
  },
  "language_info": {
   "codemirror_mode": {
    "name": "ipython",
    "version": 3
   },
   "file_extension": ".py",
   "mimetype": "text/x-python",
   "name": "python",
   "nbconvert_exporter": "python",
   "pygments_lexer": "ipython3",
   "version": "3.8.10"
  }
 },
 "nbformat": 4,
 "nbformat_minor": 5
}
