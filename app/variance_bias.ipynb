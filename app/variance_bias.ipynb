{
 "cells": [
  {
   "cell_type": "code",
   "execution_count": 2,
   "id": "422be604-42af-44e6-a57c-4e9af1049f1c",
   "metadata": {},
   "outputs": [],
   "source": [
    "from ogb.linkproppred import PygLinkPropPredDataset\n",
    "d_name = \"ogbl-ddi\"\n",
    "dataset = PygLinkPropPredDataset(name = d_name) \n",
    "\n",
    "split_edge = dataset.get_edge_split()\n",
    "train_edge, valid_edge, test_edge = split_edge[\"train\"], split_edge[\"valid\"], split_edge[\"test\"]\n",
    "graph = dataset[0] "
   ]
  },
  {
   "cell_type": "code",
   "execution_count": 7,
   "id": "e8891ba7-4001-4991-9e91-5e7e04467e2b",
   "metadata": {},
   "outputs": [
    {
     "data": {
      "text/plain": [
       "1067911"
      ]
     },
     "execution_count": 7,
     "metadata": {},
     "output_type": "execute_result"
    }
   ],
   "source": [
    "len(split_edge[\"train\"][\"edge\"])"
   ]
  },
  {
   "cell_type": "code",
   "execution_count": 17,
   "id": "e5dab33b-c568-453a-9938-3d5bd56a6c2a",
   "metadata": {},
   "outputs": [
    {
     "data": {
      "text/plain": [
       "133489"
      ]
     },
     "execution_count": 17,
     "metadata": {},
     "output_type": "execute_result"
    }
   ],
   "source": [
    "len(split_edge[\"valid\"][\"edge\"])"
   ]
  },
  {
   "cell_type": "code",
   "execution_count": 13,
   "id": "ae214a03-a862-4c49-88d7-c407b2d939ee",
   "metadata": {},
   "outputs": [
    {
     "data": {
      "text/plain": [
       "240280.0"
      ]
     },
     "execution_count": 13,
     "metadata": {},
     "output_type": "execute_result"
    }
   ],
   "source": [
    "total_number_of_samples = 1067911 + 133489\n",
    "train_samples = 0.2 * total_number_of_samples\n",
    "train_samples"
   ]
  },
  {
   "cell_type": "code",
   "execution_count": 23,
   "id": "4997e762-6c4e-4793-a917-ad22d422ac18",
   "metadata": {},
   "outputs": [],
   "source": [
    "## get the train[\"edge\"]\n",
    "t = train_edge[\"edge\"]"
   ]
  },
  {
   "cell_type": "code",
   "execution_count": 24,
   "id": "2187c3a1-fcdd-4990-9ba7-a965dd9252a3",
   "metadata": {},
   "outputs": [],
   "source": [
    "v = valid_edge[\"edge\"]\n",
    "\n",
    "## combine the train[\"edge\"]  and validation[\"edge\"] "
   ]
  },
  {
   "cell_type": "code",
   "execution_count": 26,
   "id": "0ec0b4f8-9f56-4baa-aa33-618be288ff58",
   "metadata": {},
   "outputs": [],
   "source": [
    "import torch"
   ]
  },
  {
   "cell_type": "code",
   "execution_count": 46,
   "id": "69abee90-3cd3-463e-b092-51b8f3aed030",
   "metadata": {},
   "outputs": [
    {
     "data": {
      "text/plain": [
       "1201400"
      ]
     },
     "execution_count": 46,
     "metadata": {},
     "output_type": "execute_result"
    }
   ],
   "source": [
    "all_data = torch.cat((t,v), 0)\n",
    "all_data.size(0)"
   ]
  },
  {
   "cell_type": "code",
   "execution_count": 42,
   "id": "d2919d29-d9a4-477d-9efa-ba7989f6af09",
   "metadata": {},
   "outputs": [
    {
     "data": {
      "text/plain": [
       "1201400"
      ]
     },
     "execution_count": 42,
     "metadata": {},
     "output_type": "execute_result"
    }
   ],
   "source": [
    "1201400 - 240280\n",
    "240280 + 961120"
   ]
  },
  {
   "cell_type": "code",
   "execution_count": 70,
   "id": "547fff81-cec7-4553-a910-25dcaa349141",
   "metadata": {},
   "outputs": [],
   "source": [
    "def create_splits(dataset,training_fraction = 0.2): \n",
    "    split_edge = dataset.get_edge_split()\n",
    "    print(split_edge.keys())\n",
    "    train_edge, valid_edge, test_edge = split_edge[\"train\"], split_edge[\"valid\"], split_edge[\"test\"]\n",
    "    # combine the training and validation edges\n",
    "    training_edges = train_edge[\"edge\"]\n",
    "    validation_edges = valid_edge[\"edge\"]\n",
    "    # combine both set of edges\n",
    "    all_data = torch.cat((training_edges,validation_edges), 0)\n",
    "    # do 20:80 split\n",
    "    total_number_of_samples = all_data.size(0)\n",
    "    _20_train = total_number_of_samples * training_fraction\n",
    "    _80_valid = total_number_of_samples  - _20_train\n",
    "    splits = torch.split(all_data, [int(_20_train),int(_80_valid)])\n",
    "    new_training_edges = splits[0]\n",
    "    new_validation_edges = splits[1]\n",
    "    valid_edge[\"edge\"] = new_validation_edges \n",
    "    train_edge[\"edge\"] = new_training_edges\n",
    "    split_edge[\"train\"][\"edge\"] = new_training_edges\n",
    "    split_edge[\"valid\"][\"edge\"] = new_validation_edges \n",
    "    \n",
    "    return split_edge\n",
    "    "
   ]
  },
  {
   "cell_type": "code",
   "execution_count": 71,
   "id": "2ebf5a74-2dba-4111-93c6-30b7fbe5a4b7",
   "metadata": {},
   "outputs": [
    {
     "name": "stdout",
     "output_type": "stream",
     "text": [
      "dict_keys(['train', 'valid', 'test'])\n",
      "240280.0\n"
     ]
    },
    {
     "data": {
      "text/plain": [
       "torch.Size([240280, 2])"
      ]
     },
     "execution_count": 71,
     "metadata": {},
     "output_type": "execute_result"
    }
   ],
   "source": [
    "#train_edge, valid_edge, test_edge = create_splits(dataset)\n",
    "#train_edge[\"edge\"].size(), valid_edge[\"edge\"].size(), test_edge[\"edge\"].size()\n",
    "create_splits(dataset)[\"train\"][\"edge\"].size()"
   ]
  },
  {
   "cell_type": "code",
   "execution_count": 43,
   "id": "1dc69191-437f-469d-b1f0-226540044b8e",
   "metadata": {},
   "outputs": [
    {
     "data": {
      "text/plain": [
       "(tensor([[4039, 2424],\n",
       "         [4039,  225],\n",
       "         [4039, 3901],\n",
       "         ...,\n",
       "         [2345, 3513],\n",
       "         [2345,  719],\n",
       "         [2345, 2994]]),\n",
       " tensor([[2345, 1250],\n",
       "         [2345,  786],\n",
       "         [2345, 1131],\n",
       "         ...,\n",
       "         [3661, 3125],\n",
       "         [3272, 3330],\n",
       "         [1330,  776]]))"
      ]
     },
     "execution_count": 43,
     "metadata": {},
     "output_type": "execute_result"
    }
   ],
   "source": [
    "# split the data into 20% for training 80% for validation\n",
    "splits = torch.split(all_data, [240280,961120])\n",
    "splits"
   ]
  },
  {
   "cell_type": "code",
   "execution_count": null,
   "id": "42232ac9-2b04-4c6f-8595-024a2750dc70",
   "metadata": {},
   "outputs": [],
   "source": []
  }
 ],
 "metadata": {
  "kernelspec": {
   "display_name": "Python 3 (ipykernel)",
   "language": "python",
   "name": "python3"
  },
  "language_info": {
   "codemirror_mode": {
    "name": "ipython",
    "version": 3
   },
   "file_extension": ".py",
   "mimetype": "text/x-python",
   "name": "python",
   "nbconvert_exporter": "python",
   "pygments_lexer": "ipython3",
   "version": "3.8.10"
  }
 },
 "nbformat": 4,
 "nbformat_minor": 5
}
